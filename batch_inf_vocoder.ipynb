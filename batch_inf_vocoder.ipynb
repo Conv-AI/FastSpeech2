{
 "cells": [
  {
   "cell_type": "code",
   "execution_count": 1,
   "id": "ae39eaa8",
   "metadata": {},
   "outputs": [],
   "source": [
    "import os\n",
    "import re\n",
    "import yaml\n",
    "import json\n",
    "import torch\n",
    "import torch.nn as nn\n",
    "import numpy as np\n",
    "from g2p_en import G2p\n",
    "from model import FastSpeech2\n",
    "from utils.tools import pad_1D\n",
    "from text import text_to_sequence\n",
    "from synthesize import read_lexicon\n",
    "\n",
    "import IPython.display as ipd\n",
    "from string import punctuation\n",
    "\n",
    "from torch.utils.data import DataLoader\n",
    "import pandas as pd\n",
    "from tqdm import tqdm"
   ]
  },
  {
   "cell_type": "code",
   "execution_count": 18,
   "id": "39fa791d",
   "metadata": {},
   "outputs": [],
   "source": [
    "device = 2"
   ]
  },
  {
   "cell_type": "code",
   "execution_count": 44,
   "id": "aa28ec60",
   "metadata": {},
   "outputs": [],
   "source": [
    "torch.cuda.set_device(f'cuda:{device}')"
   ]
  },
  {
   "cell_type": "code",
   "execution_count": 45,
   "id": "47583a64",
   "metadata": {},
   "outputs": [],
   "source": [
    "ckpt_file_path = '/workspace/nemo/vol/extvol1/emotional_transference_2324_speakers.pth'\n",
    "checkpoint = torch.load(ckpt_file_path, map_location=torch.device('cpu'))"
   ]
  },
  {
   "cell_type": "code",
   "execution_count": 46,
   "id": "af111036",
   "metadata": {},
   "outputs": [],
   "source": [
    "model_config = yaml.load(open('/workspace/nemo/vol/FastSpeech2/config/emo_exp/model.yaml',\n",
    "                              \"r\"), Loader=yaml.FullLoader)\n",
    "preprocess_config = yaml.load(open('/workspace/nemo/vol/FastSpeech2/config/emo_exp/preprocess.yaml',\n",
    "                              \"r\"), Loader=yaml.FullLoader)\n",
    "\n",
    "fp = FastSpeech2(model_config=model_config, preprocess_config=preprocess_config)\n",
    "fp.load_state_dict(checkpoint['model'])\n",
    "# fp = nn.DataParallel(fp)\n",
    "fp = fp.to(f'cuda:{device}')\n",
    "\n",
    "g2p = G2p()\n",
    "lexicon = read_lexicon(preprocess_config[\"path\"][\"lexicon_path\"])"
   ]
  },
  {
   "cell_type": "code",
   "execution_count": 47,
   "id": "e277046c",
   "metadata": {},
   "outputs": [],
   "source": [
    "def preprocess_english(text, preprocess_config, g2p = g2p, lexicon = lexicon):\n",
    "    text = text.rstrip(punctuation)\n",
    "    phones = []\n",
    "    words = re.split(r\"([,;.\\-\\?\\!\\s+])\", text)\n",
    "    for w in words:\n",
    "        if w.lower() in lexicon:\n",
    "            phones += lexicon[w.lower()]\n",
    "        else:\n",
    "            phones += list(filter(lambda p: p != \" \", g2p(w)))\n",
    "    phones = \"{\" + \"}{\".join(phones) + \"}\"\n",
    "    phones = re.sub(r\"\\{[^\\w\\s]?\\}\", \"{sp}\", phones)\n",
    "    phones = phones.replace(\"}{\", \" \")\n",
    "    \n",
    "    sequence = np.array(\n",
    "        text_to_sequence(\n",
    "            phones, preprocess_config[\"preprocessing\"][\"text\"][\"text_cleaners\"]\n",
    "        )\n",
    "    )\n",
    "\n",
    "    return np.array(sequence)"
   ]
  },
  {
   "cell_type": "code",
   "execution_count": 48,
   "id": "a660dabe",
   "metadata": {},
   "outputs": [],
   "source": [
    "def get_inference(text_list, speaker_list, emotion_list):\n",
    "    speakers = torch.tensor(speaker_list).to(f'cuda:{device}')\n",
    "    emotion = torch.tensor(emotion_list).to(f'cuda:{device}')\n",
    "    text = [preprocess_english(i, preprocess_config) for i in text_list]\n",
    "    text = pad_1D(text)\n",
    "    texts = torch.tensor(text).to(f'cuda:{device}')\n",
    "\n",
    "    text_lens = torch.tensor([len(i) for i in texts]).to(f'cuda:{device}')\n",
    "    max_len = max(text_lens)\n",
    "    \n",
    "    batchs = [(speakers, emotion, texts, text_lens,max_len )]\n",
    "    #     print(batchs)\n",
    "                \n",
    "    predictions = fp(*(batchs[0]))\n",
    "    mel_predictions = predictions[1].permute(0, 2, 1)\n",
    "    \n",
    "    return mel_predictions"
   ]
  },
  {
   "cell_type": "code",
   "execution_count": 49,
   "id": "8acf3454",
   "metadata": {},
   "outputs": [],
   "source": [
    "def save_predicted_mels(mel_predictions, emotion_list, speaker_list, basename_list, target_dir = '/workspace/nemo/vol/extvol2/mels' ):\n",
    "    save_paths = []\n",
    "    for speaker, emotion, basename, mel in zip(speaker_list, emotion_list, basename_list, mel_predictions):\n",
    "        save_path = f\"{target_dir}/mel_{speaker}_{emotion}_{basename}.npy\"\n",
    "        np.save(save_path, mel.detach().to('cpu').numpy())\n",
    "        save_paths.append(save_path)\n",
    "    return save_paths"
   ]
  },
  {
   "cell_type": "code",
   "execution_count": 50,
   "id": "2fbf6a2f",
   "metadata": {},
   "outputs": [],
   "source": [
    "# function to read in the emotion and speaker json\n",
    "emotion_json_path = \"/workspace/nemo/vol/extvol1/emotions.json\"\n",
    "EMOTION_DICT = {}\n",
    "\n",
    "with open(emotion_json_path) as f:\n",
    "    EMOTION_DICT = json.loads(f.read())\n",
    "    \n",
    "speakers_json_path = \"/workspace/nemo/vol/extvol1/speakers.json\"\n",
    "SPEAKER_ID_DICT = {}\n",
    "\n",
    "with open(speakers_json_path) as f:\n",
    "    SPEAKER_ID_DICT = json.loads(f.read())"
   ]
  },
  {
   "cell_type": "code",
   "execution_count": 51,
   "id": "59b8a459",
   "metadata": {},
   "outputs": [],
   "source": [
    "def get_speaker_id(x):\n",
    "    return SPEAKER_ID_DICT.get(x,'--NA--')\n",
    "\n",
    "def get_emotion_id(x):\n",
    "    return EMOTION_DICT.get(x,'--NA--')"
   ]
  },
  {
   "cell_type": "code",
   "execution_count": 52,
   "id": "5e88c28f",
   "metadata": {},
   "outputs": [],
   "source": [
    "from torch.utils.data import Dataset\n",
    "\n",
    "class Dataset(Dataset):\n",
    "    def __init__(self, batch_size):\n",
    "        self.batch_size = batch_size\n",
    "        self.basename, self.speaker, self.emotions, self.text = self.process_meta()\n",
    "        self.drop_last = False\n",
    "\n",
    "    def __len__(self):\n",
    "        return len(self.text)\n",
    "    \n",
    "    def process_meta(self):\n",
    "        number_of_rows_to_process = 180353\n",
    "        start_index = number_of_rows_to_process*device\n",
    "        end_index = start_index + number_of_rows_to_process + 1\n",
    "        \n",
    "        data = pd.read_csv('/workspace/nemo/vol/extvol1/data-points-rec-2.csv')\n",
    "        \n",
    "        data = data.iloc[start_index:end_index]\n",
    "        \n",
    "        print(\"Total :  \",len(data))\n",
    "        data['_speaker_id'] = data['speaker_id'].apply(get_speaker_id)\n",
    "        data['_emotion_id'] = data['emotion'].apply(get_emotion_id)\n",
    "        \n",
    "        data = data[data['_speaker_id']!='--NA--']\n",
    "        data = data[data['_emotion_id']!='--NA--']\n",
    "        \n",
    "        name = []\n",
    "        speaker = []\n",
    "        text = []\n",
    "        emotions = []\n",
    "        \n",
    "        for index, row in data.iterrows():\n",
    "            n = os.path.splitext(os.path.basename(row['basename']))[0]\n",
    "            s = row['_speaker_id']\n",
    "            e = row['_emotion_id']\n",
    "            t = row['text']\n",
    "            \n",
    "            if os.path.exists(f\"/workspace/nemo/vol/extvol2/mels/mel_{s}_{e}_{n}.npy\"):\n",
    "                # skipping the files that were already processed\n",
    "                continue\n",
    "            \n",
    "            name.append(n)\n",
    "            speaker.append(s)\n",
    "            text.append(t)\n",
    "            emotions.append(e)\n",
    "        print(\"After filtering :  \",len(text))\n",
    "        return name, speaker, emotions, text\n",
    "\n",
    "    def __getitem__(self, idx):\n",
    "        basename = self.basename[idx]\n",
    "        speaker_id = self.speaker[idx]\n",
    "        emotion_id = self.emotions[idx]\n",
    "        text = self.text[idx]\n",
    "        sample = {\n",
    "            \"id\": basename,\n",
    "            \"speaker\": speaker_id,\n",
    "            \"emotion\": emotion_id,\n",
    "            \"text\": text\n",
    "        }\n",
    "\n",
    "        return sample\n",
    "    \n",
    "    def reprocess(self, data, idxs):\n",
    "        ids = [data[idx][\"id\"] for idx in idxs]\n",
    "        speakers = [data[idx][\"speaker\"] for idx in idxs]\n",
    "        texts = [data[idx][\"text\"] for idx in idxs]\n",
    "        emotions = [data[idx][\"emotion\"] for idx in idxs]\n",
    "\n",
    "        speakers = np.array(speakers)\n",
    "        emotions = np.array(emotions)\n",
    "\n",
    "        return (\n",
    "            ids,\n",
    "            speakers,\n",
    "            emotions,\n",
    "            texts\n",
    "        )\n",
    "\n",
    "    def collate_fn(self, data):\n",
    "        data_size = len(data)\n",
    "\n",
    "        idx_arr = np.arange(data_size)\n",
    "\n",
    "        tail = idx_arr[len(idx_arr) - (len(idx_arr) % self.batch_size):]\n",
    "        idx_arr = idx_arr[: len(idx_arr) - (len(idx_arr) % self.batch_size)]\n",
    "        idx_arr = idx_arr.reshape((-1, self.batch_size)).tolist()\n",
    "        if not self.drop_last and len(tail) > 0:\n",
    "            idx_arr += [tail.tolist()]\n",
    "\n",
    "        output = list()\n",
    "        for idx in idx_arr:\n",
    "            output.append(self.reprocess(data, idx))\n",
    "\n",
    "        return output"
   ]
  },
  {
   "cell_type": "code",
   "execution_count": 53,
   "id": "94ee7175",
   "metadata": {},
   "outputs": [
    {
     "name": "stdout",
     "output_type": "stream",
     "text": [
      "Total :   1442820\n",
      "After filtering :   1397979\n"
     ]
    }
   ],
   "source": [
    "batch_size = 10\n",
    "\n",
    "dataset = Dataset(batch_size)\n",
    "val_loader = DataLoader(\n",
    "        dataset,\n",
    "        batch_size=batch_size,\n",
    "        shuffle=False,\n",
    "        collate_fn=dataset.collate_fn,\n",
    "    )"
   ]
  },
  {
   "cell_type": "code",
   "execution_count": 55,
   "id": "7994b56a",
   "metadata": {},
   "outputs": [],
   "source": [
    "UNIVERSAL_DU_MEL_LIST = []"
   ]
  },
  {
   "cell_type": "code",
   "execution_count": 58,
   "id": "85470536",
   "metadata": {},
   "outputs": [
    {
     "name": "stderr",
     "output_type": "stream",
     "text": [
      "  0%|                                                                                                                                                                                   | 0/139798 [00:00<?, ?it/s]"
     ]
    },
    {
     "name": "stdout",
     "output_type": "stream",
     "text": [
      "53\n",
      "11\n",
      "6\n",
      "9\n",
      "6713\n",
      "25\n",
      "11\n",
      "25\n",
      "7\n",
      "10\n"
     ]
    },
    {
     "name": "stderr",
     "output_type": "stream",
     "text": [
      "  0%|                                                                                                                                                                                   | 0/139798 [00:05<?, ?it/s]\n"
     ]
    },
    {
     "ename": "RuntimeError",
     "evalue": "The size of tensor a (4467) must match the size of tensor b (2001) at non-singleton dimension 1",
     "output_type": "error",
     "traceback": [
      "\u001b[0;31m---------------------------------------------------------------------------\u001b[0m",
      "\u001b[0;31mRuntimeError\u001b[0m                              Traceback (most recent call last)",
      "Cell \u001b[0;32mIn[58], line 8\u001b[0m\n\u001b[1;32m      6\u001b[0m \u001b[38;5;28;01mfor\u001b[39;00m text \u001b[38;5;129;01min\u001b[39;00m text_list:\n\u001b[1;32m      7\u001b[0m     \u001b[38;5;28mprint\u001b[39m(\u001b[38;5;28mlen\u001b[39m(text))\n\u001b[0;32m----> 8\u001b[0m mel_predictions \u001b[38;5;241m=\u001b[39m \u001b[43mget_inference\u001b[49m\u001b[43m(\u001b[49m\u001b[43mtext_list\u001b[49m\u001b[43m,\u001b[49m\u001b[43m \u001b[49m\u001b[43mspeaker_list\u001b[49m\u001b[43m,\u001b[49m\u001b[43m \u001b[49m\u001b[43memotion_list\u001b[49m\u001b[43m)\u001b[49m\n\u001b[1;32m      9\u001b[0m save_paths \u001b[38;5;241m=\u001b[39m save_predicted_mels(mel_predictions, emotion_list, speaker_list, basename_list)\n\u001b[1;32m     11\u001b[0m \u001b[38;5;28;01mfor\u001b[39;00m basename, mel_path \u001b[38;5;129;01min\u001b[39;00m \u001b[38;5;28mzip\u001b[39m(basename_list, save_paths):\n",
      "Cell \u001b[0;32mIn[48], line 14\u001b[0m, in \u001b[0;36mget_inference\u001b[0;34m(text_list, speaker_list, emotion_list)\u001b[0m\n\u001b[1;32m     11\u001b[0m batchs \u001b[38;5;241m=\u001b[39m [(speakers, emotion, texts, text_lens,max_len )]\n\u001b[1;32m     12\u001b[0m \u001b[38;5;66;03m#     print(batchs)\u001b[39;00m\n\u001b[0;32m---> 14\u001b[0m predictions \u001b[38;5;241m=\u001b[39m \u001b[43mfp\u001b[49m\u001b[43m(\u001b[49m\u001b[38;5;241;43m*\u001b[39;49m\u001b[43m(\u001b[49m\u001b[43mbatchs\u001b[49m\u001b[43m[\u001b[49m\u001b[38;5;241;43m0\u001b[39;49m\u001b[43m]\u001b[49m\u001b[43m)\u001b[49m\u001b[43m)\u001b[49m\n\u001b[1;32m     15\u001b[0m mel_predictions \u001b[38;5;241m=\u001b[39m predictions[\u001b[38;5;241m1\u001b[39m]\u001b[38;5;241m.\u001b[39mpermute(\u001b[38;5;241m0\u001b[39m, \u001b[38;5;241m2\u001b[39m, \u001b[38;5;241m1\u001b[39m)\n\u001b[1;32m     17\u001b[0m \u001b[38;5;28;01mreturn\u001b[39;00m mel_predictions\n",
      "File \u001b[0;32m/usr/local/lib/python3.8/dist-packages/torch/nn/modules/module.py:1533\u001b[0m, in \u001b[0;36mModule._call_impl\u001b[0;34m(self, *args, **kwargs)\u001b[0m\n\u001b[1;32m   1528\u001b[0m \u001b[38;5;66;03m# If we don't have any hooks, we want to skip the rest of the logic in\u001b[39;00m\n\u001b[1;32m   1529\u001b[0m \u001b[38;5;66;03m# this function, and just call forward.  It's slow for dynamo to guard on the state\u001b[39;00m\n\u001b[1;32m   1530\u001b[0m \u001b[38;5;66;03m# of all these hook dicts individually, so instead it can guard on 2 bools and we just\u001b[39;00m\n\u001b[1;32m   1531\u001b[0m \u001b[38;5;66;03m# have to promise to keep them up to date when hooks are added or removed via official means.\u001b[39;00m\n\u001b[1;32m   1532\u001b[0m \u001b[38;5;28;01mif\u001b[39;00m \u001b[38;5;129;01mnot\u001b[39;00m \u001b[38;5;28mself\u001b[39m\u001b[38;5;241m.\u001b[39m_has_hooks \u001b[38;5;129;01mand\u001b[39;00m \u001b[38;5;129;01mnot\u001b[39;00m _has_global_hooks:\n\u001b[0;32m-> 1533\u001b[0m     \u001b[38;5;28;01mreturn\u001b[39;00m \u001b[43mforward_call\u001b[49m\u001b[43m(\u001b[49m\u001b[38;5;241;43m*\u001b[39;49m\u001b[43margs\u001b[49m\u001b[43m,\u001b[49m\u001b[43m \u001b[49m\u001b[38;5;241;43m*\u001b[39;49m\u001b[38;5;241;43m*\u001b[39;49m\u001b[43mkwargs\u001b[49m\u001b[43m)\u001b[49m\n\u001b[1;32m   1534\u001b[0m \u001b[38;5;66;03m# Do not call functions when jit is used\u001b[39;00m\n\u001b[1;32m   1535\u001b[0m full_backward_hooks, non_full_backward_hooks \u001b[38;5;241m=\u001b[39m [], []\n",
      "File \u001b[0;32m/workspace/nemo/vol/FastSpeech2/model/fastspeech2.py:79\u001b[0m, in \u001b[0;36mFastSpeech2.forward\u001b[0;34m(self, speakers, emotions, texts, src_lens, max_src_len, mels, mel_lens, max_mel_len, p_targets, e_targets, d_targets, p_control, e_control, d_control)\u001b[0m\n\u001b[1;32m     72\u001b[0m src_masks \u001b[38;5;241m=\u001b[39m get_mask_from_lengths(src_lens, max_src_len)\n\u001b[1;32m     73\u001b[0m mel_masks \u001b[38;5;241m=\u001b[39m (\n\u001b[1;32m     74\u001b[0m     get_mask_from_lengths(mel_lens, max_mel_len)\n\u001b[1;32m     75\u001b[0m     \u001b[38;5;28;01mif\u001b[39;00m mel_lens \u001b[38;5;129;01mis\u001b[39;00m \u001b[38;5;129;01mnot\u001b[39;00m \u001b[38;5;28;01mNone\u001b[39;00m\n\u001b[1;32m     76\u001b[0m     \u001b[38;5;28;01melse\u001b[39;00m \u001b[38;5;28;01mNone\u001b[39;00m\n\u001b[1;32m     77\u001b[0m )\n\u001b[0;32m---> 79\u001b[0m output \u001b[38;5;241m=\u001b[39m \u001b[38;5;28;43mself\u001b[39;49m\u001b[38;5;241;43m.\u001b[39;49m\u001b[43mencoder\u001b[49m\u001b[43m(\u001b[49m\u001b[43mtexts\u001b[49m\u001b[43m,\u001b[49m\u001b[43m \u001b[49m\u001b[43msrc_masks\u001b[49m\u001b[43m)\u001b[49m\n\u001b[1;32m     81\u001b[0m \u001b[38;5;28;01mif\u001b[39;00m \u001b[38;5;28mself\u001b[39m\u001b[38;5;241m.\u001b[39mspeaker_emb \u001b[38;5;129;01mis\u001b[39;00m \u001b[38;5;129;01mnot\u001b[39;00m \u001b[38;5;28;01mNone\u001b[39;00m:\n\u001b[1;32m     82\u001b[0m     output \u001b[38;5;241m=\u001b[39m output \u001b[38;5;241m+\u001b[39m \u001b[38;5;28mself\u001b[39m\u001b[38;5;241m.\u001b[39mspeaker_emb(speakers)\u001b[38;5;241m.\u001b[39munsqueeze(\u001b[38;5;241m1\u001b[39m)\u001b[38;5;241m.\u001b[39mexpand(\n\u001b[1;32m     83\u001b[0m         \u001b[38;5;241m-\u001b[39m\u001b[38;5;241m1\u001b[39m, max_src_len, \u001b[38;5;241m-\u001b[39m\u001b[38;5;241m1\u001b[39m\n\u001b[1;32m     84\u001b[0m     )\n",
      "File \u001b[0;32m/usr/local/lib/python3.8/dist-packages/torch/nn/modules/module.py:1533\u001b[0m, in \u001b[0;36mModule._call_impl\u001b[0;34m(self, *args, **kwargs)\u001b[0m\n\u001b[1;32m   1528\u001b[0m \u001b[38;5;66;03m# If we don't have any hooks, we want to skip the rest of the logic in\u001b[39;00m\n\u001b[1;32m   1529\u001b[0m \u001b[38;5;66;03m# this function, and just call forward.  It's slow for dynamo to guard on the state\u001b[39;00m\n\u001b[1;32m   1530\u001b[0m \u001b[38;5;66;03m# of all these hook dicts individually, so instead it can guard on 2 bools and we just\u001b[39;00m\n\u001b[1;32m   1531\u001b[0m \u001b[38;5;66;03m# have to promise to keep them up to date when hooks are added or removed via official means.\u001b[39;00m\n\u001b[1;32m   1532\u001b[0m \u001b[38;5;28;01mif\u001b[39;00m \u001b[38;5;129;01mnot\u001b[39;00m \u001b[38;5;28mself\u001b[39m\u001b[38;5;241m.\u001b[39m_has_hooks \u001b[38;5;129;01mand\u001b[39;00m \u001b[38;5;129;01mnot\u001b[39;00m _has_global_hooks:\n\u001b[0;32m-> 1533\u001b[0m     \u001b[38;5;28;01mreturn\u001b[39;00m \u001b[43mforward_call\u001b[49m\u001b[43m(\u001b[49m\u001b[38;5;241;43m*\u001b[39;49m\u001b[43margs\u001b[49m\u001b[43m,\u001b[49m\u001b[43m \u001b[49m\u001b[38;5;241;43m*\u001b[39;49m\u001b[38;5;241;43m*\u001b[39;49m\u001b[43mkwargs\u001b[49m\u001b[43m)\u001b[49m\n\u001b[1;32m   1534\u001b[0m \u001b[38;5;66;03m# Do not call functions when jit is used\u001b[39;00m\n\u001b[1;32m   1535\u001b[0m full_backward_hooks, non_full_backward_hooks \u001b[38;5;241m=\u001b[39m [], []\n",
      "File \u001b[0;32m/workspace/nemo/vol/FastSpeech2/transformer/Models.py:89\u001b[0m, in \u001b[0;36mEncoder.forward\u001b[0;34m(self, src_seq, mask, return_attns)\u001b[0m\n\u001b[1;32m     83\u001b[0m     enc_output \u001b[38;5;241m=\u001b[39m \u001b[38;5;28mself\u001b[39m\u001b[38;5;241m.\u001b[39msrc_word_emb(src_seq) \u001b[38;5;241m+\u001b[39m get_sinusoid_encoding_table(\n\u001b[1;32m     84\u001b[0m         src_seq\u001b[38;5;241m.\u001b[39mshape[\u001b[38;5;241m1\u001b[39m], \u001b[38;5;28mself\u001b[39m\u001b[38;5;241m.\u001b[39md_model\n\u001b[1;32m     85\u001b[0m     )[: src_seq\u001b[38;5;241m.\u001b[39mshape[\u001b[38;5;241m1\u001b[39m], :]\u001b[38;5;241m.\u001b[39munsqueeze(\u001b[38;5;241m0\u001b[39m)\u001b[38;5;241m.\u001b[39mexpand(batch_size, \u001b[38;5;241m-\u001b[39m\u001b[38;5;241m1\u001b[39m, \u001b[38;5;241m-\u001b[39m\u001b[38;5;241m1\u001b[39m)\u001b[38;5;241m.\u001b[39mto(\n\u001b[1;32m     86\u001b[0m         src_seq\u001b[38;5;241m.\u001b[39mdevice\n\u001b[1;32m     87\u001b[0m     )\n\u001b[1;32m     88\u001b[0m \u001b[38;5;28;01melse\u001b[39;00m:\n\u001b[0;32m---> 89\u001b[0m     enc_output \u001b[38;5;241m=\u001b[39m \u001b[38;5;28;43mself\u001b[39;49m\u001b[38;5;241;43m.\u001b[39;49m\u001b[43msrc_word_emb\u001b[49m\u001b[43m(\u001b[49m\u001b[43msrc_seq\u001b[49m\u001b[43m)\u001b[49m\u001b[43m \u001b[49m\u001b[38;5;241;43m+\u001b[39;49m\u001b[43m \u001b[49m\u001b[38;5;28;43mself\u001b[39;49m\u001b[38;5;241;43m.\u001b[39;49m\u001b[43mposition_enc\u001b[49m\u001b[43m[\u001b[49m\n\u001b[1;32m     90\u001b[0m \u001b[43m        \u001b[49m\u001b[43m:\u001b[49m\u001b[43m,\u001b[49m\u001b[43m \u001b[49m\u001b[43m:\u001b[49m\u001b[43mmax_len\u001b[49m\u001b[43m,\u001b[49m\u001b[43m \u001b[49m\u001b[43m:\u001b[49m\n\u001b[1;32m     91\u001b[0m \u001b[43m    \u001b[49m\u001b[43m]\u001b[49m\u001b[38;5;241;43m.\u001b[39;49m\u001b[43mexpand\u001b[49m\u001b[43m(\u001b[49m\u001b[43mbatch_size\u001b[49m\u001b[43m,\u001b[49m\u001b[43m \u001b[49m\u001b[38;5;241;43m-\u001b[39;49m\u001b[38;5;241;43m1\u001b[39;49m\u001b[43m,\u001b[49m\u001b[43m \u001b[49m\u001b[38;5;241;43m-\u001b[39;49m\u001b[38;5;241;43m1\u001b[39;49m\u001b[43m)\u001b[49m\n\u001b[1;32m     93\u001b[0m \u001b[38;5;28;01mfor\u001b[39;00m enc_layer \u001b[38;5;129;01min\u001b[39;00m \u001b[38;5;28mself\u001b[39m\u001b[38;5;241m.\u001b[39mlayer_stack:\n\u001b[1;32m     94\u001b[0m     enc_output, enc_slf_attn \u001b[38;5;241m=\u001b[39m enc_layer(\n\u001b[1;32m     95\u001b[0m         enc_output, mask\u001b[38;5;241m=\u001b[39mmask, slf_attn_mask\u001b[38;5;241m=\u001b[39mslf_attn_mask\n\u001b[1;32m     96\u001b[0m     )\n",
      "\u001b[0;31mRuntimeError\u001b[0m: The size of tensor a (4467) must match the size of tensor b (2001) at non-singleton dimension 1"
     ]
    }
   ],
   "source": [
    "for batches in tqdm(val_loader):\n",
    "    for batch in batches:\n",
    "        basename_list, speaker_list, emotion_list, text_list = batch\n",
    "        speaker_list = speaker_list.tolist()\n",
    "        emotion_list = emotion_list.tolist()\n",
    "        mel_predictions = get_inference(text_list, speaker_list, emotion_list)\n",
    "        save_paths = save_predicted_mels(mel_predictions, emotion_list, speaker_list, basename_list)\n",
    "\n",
    "        for basename, mel_path in zip(basename_list, save_paths):\n",
    "            du = {\n",
    "                'basename' : basename,\n",
    "                'mel_path' : mel_path\n",
    "            }\n",
    "            UNIVERSAL_DU_MEL_LIST.append(du)"
   ]
  }
 ],
 "metadata": {
  "kernelspec": {
   "display_name": "Python 3 (ipykernel)",
   "language": "python",
   "name": "python3"
  },
  "language_info": {
   "codemirror_mode": {
    "name": "ipython",
    "version": 3
   },
   "file_extension": ".py",
   "mimetype": "text/x-python",
   "name": "python",
   "nbconvert_exporter": "python",
   "pygments_lexer": "ipython3",
   "version": "3.8.10"
  }
 },
 "nbformat": 4,
 "nbformat_minor": 5
}
