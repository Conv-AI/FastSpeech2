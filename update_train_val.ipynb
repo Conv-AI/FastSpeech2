{
 "cells": [
  {
   "cell_type": "code",
   "execution_count": 17,
   "id": "817d53c8",
   "metadata": {},
   "outputs": [],
   "source": [
    "new_lines = []\n",
    "with open(\"/workspace/nemo/vol/vol5/14122023Dataset/preprocessed_data_/train-Copy1.txt\", \"r\") as f:\n",
    "    for line in f:\n",
    "        if \"LJSpeech\" in line:\n",
    "            continue\n",
    "        new_lines.append(line)"
   ]
  },
  {
   "cell_type": "code",
   "execution_count": 13,
   "id": "b7a81655",
   "metadata": {},
   "outputs": [],
   "source": [
    "with open(\"/workspace/nemo/vol/vol5/14122023Dataset/preprocessed_data_/train.txt\", \"w\") as f:\n",
    "    for line in new_lines:\n",
    "        f.write(line)    "
   ]
  },
  {
   "cell_type": "code",
   "execution_count": 14,
   "id": "95b0178b",
   "metadata": {},
   "outputs": [],
   "source": [
    "new_lines = []\n",
    "with open(\"/workspace/nemo/vol/vol5/14122023Dataset/preprocessed_data_/val-Copy1.txt\", \"r\") as f:\n",
    "    for line in f:\n",
    "        if \"LJSpeech\" in line:\n",
    "            continue\n",
    "        new_lines.append(line)"
   ]
  },
  {
   "cell_type": "code",
   "execution_count": 15,
   "id": "1815ce81",
   "metadata": {},
   "outputs": [],
   "source": [
    "with open(\"/workspace/nemo/vol/vol5/14122023Dataset/preprocessed_data_/val.txt\", \"w\") as f:\n",
    "    for line in new_lines:\n",
    "        f.write(line)    "
   ]
  },
  {
   "cell_type": "code",
   "execution_count": 18,
   "id": "58a33ecc",
   "metadata": {},
   "outputs": [
    {
     "data": {
      "text/plain": [
       "3416"
      ]
     },
     "execution_count": 18,
     "metadata": {},
     "output_type": "execute_result"
    }
   ],
   "source": [
    "len(new_lines)"
   ]
  },
  {
   "cell_type": "code",
   "execution_count": null,
   "id": "53e0e53d",
   "metadata": {},
   "outputs": [],
   "source": []
  }
 ],
 "metadata": {
  "kernelspec": {
   "display_name": "Python 3 (ipykernel)",
   "language": "python",
   "name": "python3"
  },
  "language_info": {
   "codemirror_mode": {
    "name": "ipython",
    "version": 3
   },
   "file_extension": ".py",
   "mimetype": "text/x-python",
   "name": "python",
   "nbconvert_exporter": "python",
   "pygments_lexer": "ipython3",
   "version": "3.8.10"
  }
 },
 "nbformat": 4,
 "nbformat_minor": 5
}
