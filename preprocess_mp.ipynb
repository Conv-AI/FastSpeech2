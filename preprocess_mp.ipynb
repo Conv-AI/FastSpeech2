{
 "cells": [
  {
   "cell_type": "code",
   "execution_count": null,
   "id": "9339928e",
   "metadata": {},
   "outputs": [],
   "source": [
    "out_dir = \"/workspace/nemo/vol/LBM_EB/preprocessed_data/LBM_EB\"\n",
    "in_dir = \"/workspace/nemo/vol/LBM_EB/RawDataAligned/\""
   ]
  },
  {
   "cell_type": "code",
   "execution_count": 2,
   "id": "141197f4",
   "metadata": {},
   "outputs": [
    {
     "name": "stderr",
     "output_type": "stream",
     "text": [
      "/workspace/nemo/vol/dataStore2/FastSpeech2/audio/stft.py:42: FutureWarning: Pass size=1024 as keyword args. From version 0.10 passing these as positional arguments will result in an error\n",
      "  fft_window = pad_center(fft_window, filter_length)\n",
      "/workspace/nemo/vol/dataStore2/FastSpeech2/audio/stft.py:145: FutureWarning: Pass sr=22050, n_fft=1024, n_mels=80, fmin=0, fmax=8000 as keyword args. From version 0.10 passing these as positional arguments will result in an error\n",
      "  mel_basis = librosa_mel_fn(\n"
     ]
    }
   ],
   "source": [
    "import yaml\n",
    "from preprocessor.preprocessor_mp import Preprocessor\n",
    "config = \"/workspace/nemo/vol/dataStore2/FastSpeech2/config/LBM_EB/preprocess.yaml\"\n",
    "config = yaml.load(open(config, \"r\"), Loader=yaml.FullLoader)\n",
    "preprocessor = Preprocessor(config)"
   ]
  },
  {
   "cell_type": "code",
   "execution_count": 3,
   "id": "08dd05f0",
   "metadata": {},
   "outputs": [],
   "source": [
    "preprocessor.in_dir = in_dir\n",
    "preprocessor.out_dir = out_dir"
   ]
  },
  {
   "cell_type": "code",
   "execution_count": 4,
   "id": "5d1292ec",
   "metadata": {},
   "outputs": [],
   "source": [
    "# import os\n",
    "# os.makedirs((os.path.join(preprocessor.out_dir, \"pitch\")), exist_ok=True)\n",
    "# os.makedirs((os.path.join(preprocessor.out_dir, \"energy\")), exist_ok=True)\n",
    "# os.makedirs((os.path.join(preprocessor.out_dir, \"duration\")), exist_ok=True)\n",
    "# os.makedirs((os.path.join(preprocessor.out_dir, \"mel\")), exist_ok=True)\n",
    "# os.makedirs((os.path.join(preprocessor.out_dir, \"wav_modified\")), exist_ok=True)"
   ]
  },
  {
   "cell_type": "code",
   "execution_count": 5,
   "id": "7c093a7b",
   "metadata": {},
   "outputs": [],
   "source": [
    "#preprocessor.collect_all_paths()"
   ]
  },
  {
   "cell_type": "code",
   "execution_count": 6,
   "id": "5a1dadcd",
   "metadata": {},
   "outputs": [],
   "source": [
    "import pandas as pd\n",
    "paths = pd.read_csv(preprocessor.out_dir + '/' + 'paths.csv')"
   ]
  },
  {
   "cell_type": "code",
   "execution_count": 7,
   "id": "e3d1a428",
   "metadata": {},
   "outputs": [
    {
     "data": {
      "text/plain": [
       "'legend_land_v1-13_various_64kb_2'"
      ]
     },
     "execution_count": 7,
     "metadata": {},
     "output_type": "execute_result"
    }
   ],
   "source": [
    "paths.iloc[0]['tg_paths'].split('/')[-1].split('.')[0]"
   ]
  },
  {
   "cell_type": "code",
   "execution_count": 8,
   "id": "bb0ae844",
   "metadata": {},
   "outputs": [],
   "source": [
    "paths['emotions'] = paths['tg_paths'].apply(lambda item: item.split(\"/\")[-2])\n",
    "paths['speakers'] = paths['tg_paths'].apply(lambda item: item.split(\"/\")[-3])"
   ]
  },
  {
   "cell_type": "code",
   "execution_count": 9,
   "id": "5ba232d7",
   "metadata": {},
   "outputs": [],
   "source": [
    "basenames = [i.split('.')[0].split('/')[-1] for i in paths['tg_paths'].to_list()]"
   ]
  },
  {
   "cell_type": "code",
   "execution_count": 10,
   "id": "fffe093e",
   "metadata": {},
   "outputs": [],
   "source": [
    "emotions = paths['emotions'].to_list()\n",
    "speakers = paths['speakers'].to_list()"
   ]
  },
  {
   "cell_type": "code",
   "execution_count": 11,
   "id": "c8866864",
   "metadata": {},
   "outputs": [
    {
     "data": {
      "text/plain": [
       "(1420214, 1420214, 1420214)"
      ]
     },
     "execution_count": 11,
     "metadata": {},
     "output_type": "execute_result"
    }
   ],
   "source": [
    "len(basenames), len(emotions), len(speakers)"
   ]
  },
  {
   "cell_type": "code",
   "execution_count": 12,
   "id": "5e9dc504",
   "metadata": {},
   "outputs": [],
   "source": [
    "#preprocessor.process_duration_and_pitch_mp(basenames, speakers, emotions)"
   ]
  },
  {
   "cell_type": "code",
   "execution_count": 13,
   "id": "7f52fa3c",
   "metadata": {},
   "outputs": [
    {
     "name": "stderr",
     "output_type": "stream",
     "text": [
      "906493it [22:33, 208.95it/s]  IOPub message rate exceeded.\n",
      "The notebook server will temporarily stop sending output\n",
      "to the client in order to avoid crashing it.\n",
      "To change this limit, set the config variable\n",
      "`--NotebookApp.iopub_msg_rate_limit`.\n",
      "\n",
      "Current values:\n",
      "NotebookApp.iopub_msg_rate_limit=1000.0 (msgs/sec)\n",
      "NotebookApp.rate_limit_window=3.0 (secs)\n",
      "\n",
      "1420214it [1:04:07, 369.09it/s]\n"
     ]
    },
    {
     "name": "stdout",
     "output_type": "stream",
     "text": [
      "Computing statistic quantities ...\n",
      "Total time: 339.823778281683 hours\n"
     ]
    }
   ],
   "source": [
    "preprocessor.build_from_path(speakers, emotions, basenames)"
   ]
  },
  {
   "cell_type": "code",
   "execution_count": 15,
   "id": "4c870ab0",
   "metadata": {},
   "outputs": [
    {
     "data": {
      "text/plain": [
       "'/workspace/nemo/vol/LBM_EB/preprocessed_data/LBM_EB'"
      ]
     },
     "execution_count": 15,
     "metadata": {},
     "output_type": "execute_result"
    }
   ],
   "source": [
    "preprocessor.out_dir"
   ]
  },
  {
   "cell_type": "code",
   "execution_count": 17,
   "id": "a6e375da",
   "metadata": {},
   "outputs": [
    {
     "data": {
      "text/plain": [
       "1317149"
      ]
     },
     "execution_count": 17,
     "metadata": {},
     "output_type": "execute_result"
    }
   ],
   "source": [
    "import os\n",
    "len(os.listdir(os.path.join(preprocessor.out_dir, \"pitch\")))"
   ]
  },
  {
   "cell_type": "code",
   "execution_count": 18,
   "id": "737d4f79",
   "metadata": {},
   "outputs": [
    {
     "data": {
      "text/plain": [
       "1317149"
      ]
     },
     "execution_count": 18,
     "metadata": {},
     "output_type": "execute_result"
    }
   ],
   "source": [
    "len(os.listdir(os.path.join(preprocessor.out_dir, \"mel\")))"
   ]
  },
  {
   "cell_type": "code",
   "execution_count": 19,
   "id": "e336dc29",
   "metadata": {},
   "outputs": [
    {
     "data": {
      "text/plain": [
       "1317149"
      ]
     },
     "execution_count": 19,
     "metadata": {},
     "output_type": "execute_result"
    }
   ],
   "source": [
    "len(os.listdir(os.path.join(preprocessor.out_dir, \"energy\")))"
   ]
  },
  {
   "cell_type": "code",
   "execution_count": 20,
   "id": "d487dd19",
   "metadata": {},
   "outputs": [
    {
     "data": {
      "text/plain": [
       "1317149"
      ]
     },
     "execution_count": 20,
     "metadata": {},
     "output_type": "execute_result"
    }
   ],
   "source": [
    "len(os.listdir(os.path.join(preprocessor.out_dir, \"duration\")))"
   ]
  },
  {
   "cell_type": "code",
   "execution_count": 23,
   "id": "12fbc760",
   "metadata": {},
   "outputs": [
    {
     "data": {
      "text/plain": [
       "20536"
      ]
     },
     "execution_count": 23,
     "metadata": {},
     "output_type": "execute_result"
    }
   ],
   "source": [
    "len([i for i in os.walk(os.path.join(preprocessor.out_dir, \"TextGrid\"))])"
   ]
  },
  {
   "cell_type": "code",
   "execution_count": 32,
   "id": "6e426f1c",
   "metadata": {},
   "outputs": [],
   "source": [
    "file_count = 0\n",
    "tg_files = []\n",
    "for speaker in os.listdir(os.path.join(preprocessor.out_dir, \"TextGrid\")):\n",
    "    for emotion in os.listdir(os.path.join(preprocessor.out_dir, \"TextGrid\", speaker)):\n",
    "        for file in os.listdir(os.path.join(preprocessor.out_dir, \"TextGrid\", speaker, emotion)):\n",
    "            if file.split('.')[1] == 'TextGrid':\n",
    "                tg_files.append(file)\n",
    "                file_count += 1"
   ]
  },
  {
   "cell_type": "code",
   "execution_count": 27,
   "id": "887fe3e6",
   "metadata": {},
   "outputs": [
    {
     "data": {
      "text/plain": [
       "1350853"
      ]
     },
     "execution_count": 27,
     "metadata": {},
     "output_type": "execute_result"
    }
   ],
   "source": [
    "file_count"
   ]
  },
  {
   "cell_type": "code",
   "execution_count": 28,
   "id": "f9af386a",
   "metadata": {},
   "outputs": [],
   "source": [
    "with open(os.path.join(preprocessor.out_dir, 'train.txt'), 'r') as f:\n",
    "    train_data = f.read()"
   ]
  },
  {
   "cell_type": "code",
   "execution_count": 35,
   "id": "0ea4246f",
   "metadata": {},
   "outputs": [],
   "source": [
    "with open(os.path.join(preprocessor.out_dir, 'val.txt'), 'r') as f:\n",
    "    val_data = f.read()"
   ]
  },
  {
   "cell_type": "code",
   "execution_count": 36,
   "id": "7c5939f6",
   "metadata": {},
   "outputs": [
    {
     "data": {
      "text/plain": [
       "1316890"
      ]
     },
     "execution_count": 36,
     "metadata": {},
     "output_type": "execute_result"
    }
   ],
   "source": [
    "len(train_data.split('\\n')) + len(val_data.split('\\n'))"
   ]
  },
  {
   "cell_type": "code",
   "execution_count": 31,
   "id": "ef278c7b",
   "metadata": {},
   "outputs": [
    {
     "data": {
      "text/plain": [
       "'sistercarrie_41_dreiser_64kb_119.TextGrid'"
      ]
     },
     "execution_count": 31,
     "metadata": {},
     "output_type": "execute_result"
    }
   ],
   "source": [
    "file"
   ]
  },
  {
   "cell_type": "code",
   "execution_count": 41,
   "id": "f1cbd87d",
   "metadata": {},
   "outputs": [],
   "source": [
    "#print(os.environ['RANK'])\n",
    "#print(os.environ['WORLD_SIZE'])\n",
    "#print(os.environ['MASTER_ADDR'])\n",
    "#print(os.environ['MASTER_PORT'])"
   ]
  },
  {
   "cell_type": "code",
   "execution_count": 63,
   "id": "e82f7ad3",
   "metadata": {},
   "outputs": [],
   "source": [
    "import json\n",
    "with open('/workspace/nemo/vol/LBM_EB/preprocessed_data/LBM_EB/speakers.json', 'r') as f:\n",
    "    speakers_dict = json.load(f)\n",
    "    \n",
    "with open('/workspace/nemo/vol/LBM_EB/preprocessed_data/LBM_EB/emotions.json', 'r') as f:\n",
    "    emotions_dict = json.load(f)"
   ]
  },
  {
   "cell_type": "code",
   "execution_count": 64,
   "id": "fb477564",
   "metadata": {},
   "outputs": [
    {
     "data": {
      "text/plain": [
       "{'Undetected': 0,\n",
       " 'Neutral': 1,\n",
       " 'Anger': 2,\n",
       " 'Hope': 3,\n",
       " 'Confused': 4,\n",
       " 'Sadness': 5,\n",
       " 'Anticipation': 6,\n",
       " 'Fear': 7,\n",
       " 'Joy': 8,\n",
       " 'Surprise': 9,\n",
       " 'Disgust': 10,\n",
       " 'Trust': 11,\n",
       " 'Curious': 12}"
      ]
     },
     "execution_count": 64,
     "metadata": {},
     "output_type": "execute_result"
    }
   ],
   "source": [
    "emotions_dict"
   ]
  },
  {
   "cell_type": "code",
   "execution_count": 68,
   "id": "ad7e2281",
   "metadata": {},
   "outputs": [],
   "source": [
    "batch_speakers = [ 431, 1432, 1432, 1878, 1359, 1573, 1171, 1740, 1454, 1589, 1615, 1489, 1709, 1653, 1573,  343]\n",
    "batch_speakers_ = [key for value in batch_speakers for key, code in speakers_dict.items() if code == value]\n",
    "batch_emotions = [ 1, 10,  5, 12, 11, 12, 12, 11,  5,  3, 12, 12, 12,  1, 12,  8]\n",
    "batch_emotions_ = [key for value in batch_emotions for key, code in emotions_dict.items() if code == value]\n",
    "\n",
    "batch_basenames = ['chunk_1', 'jesuits_19_parkman_64kb_7', 'pomonastravels_02_stockton_64kb_7',\n",
    "                   'fairyland_of_science_10_buckley_64kb_95', \n",
    "                   '21stcenturypolicing_09_taskforce_64kb_13', 'westernunitedstates_06_fairbanks_64kb_21', 'chunk_60',\n",
    "                   'wayofallflesh_12_butler_64kb_15', 'modernghoststories_05-2_scarborough_64kb_98',\n",
    "                   'jackjill_23_alcott_64kb_24', \n",
    "                   'tombrowns_02_hughes_64kb_142', 'ayesha_return_11_haggard_64kb_25',\n",
    "                   'allthingsconsidered_05_gkchesterton_64kb_105', \n",
    "                   'diary_of_uboat_commander_06_king-hall_64kb_64',\n",
    "                   'westernunitedstates_15_fairbanks_64kb_22', 'story_my_life_06_keller_64kb_14']"
   ]
  },
  {
   "cell_type": "code",
   "execution_count": 71,
   "id": "3fbebc76",
   "metadata": {},
   "outputs": [],
   "source": [
    "for basename, speaker, emotion in zip(batch_basenames, batch_speakers_, batch_emotions_):\n",
    "    basename = basename + '.TextGrid'\n",
    "    text_filepath = os.path.join(preprocessor.out_dir, 'TextGrid', str(speaker), str(emotion), basename)\n",
    "    with open(text_filepath, 'r') as f:\n",
    "        d = f.read()"
   ]
  },
  {
   "cell_type": "code",
   "execution_count": 119,
   "id": "40d2a0c7",
   "metadata": {},
   "outputs": [],
   "source": [
    "train_data_mod = []\n",
    "val_data_mod = []\n",
    "from tqdm import tqdm\n",
    "for i, item in (enumerate(train_data.split('\\n'))):\n",
    "    text = item.split('|')[-1]\n",
    "    if not len(text) > 2000:\n",
    "        train_data_mod.append(item)\n",
    "        \n",
    "        \n",
    "for i, item in (enumerate(val_data.split('\\n'))):\n",
    "    text = item.split('|')[-1]\n",
    "    if not len(text) > 2000:\n",
    "        val_data_mod.append(item)\n",
    "#     basename, speaker, emotion = item.split('|')[:3] \n",
    "#     for basename_, speaker_, emotion_ in zip(batch_basenames, batch_speakers_, batch_emotions_) :\n",
    "#         if basename == basename_ and speaker == speaker_ and emotion == emotion_:\n",
    "#             items_.append(item)\n",
    "#             continue"
   ]
  },
  {
   "cell_type": "code",
   "execution_count": 120,
   "id": "9d3c88bf",
   "metadata": {},
   "outputs": [
    {
     "data": {
      "text/plain": [
       "1216851"
      ]
     },
     "execution_count": 120,
     "metadata": {},
     "output_type": "execute_result"
    }
   ],
   "source": [
    "len(train_data_mod)"
   ]
  },
  {
   "cell_type": "code",
   "execution_count": 121,
   "id": "7459f1c1",
   "metadata": {},
   "outputs": [],
   "source": [
    "train_data_mod = train_data_mod[:-1]\n",
    "val_data_mod = val_data_mod[:-1]"
   ]
  },
  {
   "cell_type": "code",
   "execution_count": 122,
   "id": "6cfde57a",
   "metadata": {},
   "outputs": [
    {
     "data": {
      "text/plain": [
       "(1216850, 99998)"
      ]
     },
     "execution_count": 122,
     "metadata": {},
     "output_type": "execute_result"
    }
   ],
   "source": [
    "len(train_data_mod), len(val_data_mod)"
   ]
  },
  {
   "cell_type": "code",
   "execution_count": 123,
   "id": "bf42ff19",
   "metadata": {},
   "outputs": [],
   "source": [
    "train_data_mod = train_data_mod + val_data_mod[:90000]"
   ]
  },
  {
   "cell_type": "code",
   "execution_count": 124,
   "id": "61580548",
   "metadata": {},
   "outputs": [
    {
     "data": {
      "text/plain": [
       "1306850"
      ]
     },
     "execution_count": 124,
     "metadata": {},
     "output_type": "execute_result"
    }
   ],
   "source": [
    "len(train_data_mod)"
   ]
  },
  {
   "cell_type": "code",
   "execution_count": 125,
   "id": "e22745eb",
   "metadata": {},
   "outputs": [],
   "source": [
    "val_data_mod = val_data_mod[90000:]"
   ]
  },
  {
   "cell_type": "code",
   "execution_count": 126,
   "id": "382616fe",
   "metadata": {},
   "outputs": [
    {
     "data": {
      "text/plain": [
       "(1306850, 9998)"
      ]
     },
     "execution_count": 126,
     "metadata": {},
     "output_type": "execute_result"
    }
   ],
   "source": [
    "len(train_data_mod), len(val_data_mod)"
   ]
  },
  {
   "cell_type": "code",
   "execution_count": 128,
   "id": "7925a70f",
   "metadata": {},
   "outputs": [],
   "source": [
    "train_data_len = len(train_data_mod)\n",
    "val_data_len = len(val_data_mod)\n",
    "\n",
    "with open(os.path.join(preprocessor.out_dir, \"train.txt\"), \"w\", encoding=\"utf-8\") as f:\n",
    "    for i, m in enumerate(train_data_mod):\n",
    "        if i < train_data_len - 1:\n",
    "            f.write(m + \"\\n\")\n",
    "        else:\n",
    "            f.write(m)\n",
    "        \n",
    "with open(os.path.join(preprocessor.out_dir, \"val.txt\"), \"w\", encoding=\"utf-8\") as f:\n",
    "    for i, m in enumerate(val_data_mod):\n",
    "        if i < val_data_len - 1:\n",
    "            f.write(m + \"\\n\")\n",
    "        else:\n",
    "            f.write(m)"
   ]
  },
  {
   "cell_type": "code",
   "execution_count": 98,
   "id": "fc88d2a4",
   "metadata": {},
   "outputs": [
    {
     "data": {
      "text/plain": [
       "'flamingforest_23_curwood_64kb_46|2156|Curious|{HH IY1 R OW1 Z T UW1 HH IH0 Z F IY1 T AH0 N D P EY1 S T R EH1 S T L AH0 S L IY0 B AE1 K AH0 N D F AO1 R TH EH1 Z HH IY1 T R AY1 D T AH0 B R IH1 NG T AH0 G EH1 DH ER0 AH0 F Y UW1 T AE1 NG G AH0 L D B IH1 T S AH0 V DH AH0 P AH1 Z AH0 L spn HH IY1 HH ER1 D V OY1 S IH0 Z AW1 T S AY1 D spn AE1 N D V EH1 R IY0 S UW1 N F EH1 L T DH AH0 M UW1 V M AH0 N T AH0 V DH AH0 B AE0 T OW1 AH1 N D ER0 HH IH0 Z F IY1 T spn AE1 N D TH R UW1 W AH1 N AH0 V DH AH0 SH AO1 R W ER0 D W IH1 N D OW0 Z spn HH IY1 S AO1 T R IY1 Z AH0 N D S AE1 N D IY0 B IY1 CH spn S L OW1 L IY0 D R IH1 F T IH0 NG AH0 W EY1}|he rose to his feet and paced restlessly back and forth as he tried to bring together a few tangled bits of the puzzle. he heard voices outside, and very soon felt the movement of the bateaux under his feet, and through one of the shoreward windows he saw trees and sandy beach slowly drifting away. '"
      ]
     },
     "execution_count": 98,
     "metadata": {},
     "output_type": "execute_result"
    }
   ],
   "source": [
    "val_data_mod[-1]"
   ]
  },
  {
   "cell_type": "code",
   "execution_count": 82,
   "id": "473553aa",
   "metadata": {},
   "outputs": [
    {
     "name": "stdout",
     "output_type": "stream",
     "text": [
      "242\n",
      "245\n",
      "271\n",
      "271\n",
      "274\n",
      "265\n",
      "315\n",
      "253\n",
      "windows secured setting device wall secured meds delivered throwing frank loading bolt concussion grenade w secured aiding injured friendly windows secured need to get straight loaded starting barricade clamor sit rice or wire deployed medical darted nets sea four deployed loading new magazine nitro deployed flash bang out concussion out securing door reload medical dart loaded door secured pows changing mags loading dark changing mags reloading loaded loading glass medical dart loaded loading dart friendly down gona get straight barricade sat deploying shield come on i'm just one day from retirement throwing smoke rented setting c four c four deployed smoke grenade throwing frog glass clamor deployed up too old for the shit changing mas loading new magg max loby west side maintenance area breaching i've got you stairs victoria subramania biao music room hangar bay supply room flush out charge set concussion charpy southern bar code device deployed floor reinforced using shield may data top floor fragrant bedroom control room confront room supply room fourth floor break room armory loading new mag reloading see four ready dark deployed secure the wall package delivered machine room gh room large server room reach george set south side let's go reception got the hostage outside master bedroom we've got a job to do laundry room meeting room ceos office throwing frog mads deliver glass bolt loaded cafeteria got the hostage reach charge set bathroom hostile located north outside paris outside i'm out of mags fourth floor concussion grenade out swapping bags delivered the package loading new mac activating drone swapping mags surveillance room ski room throwing flush and room north side tenting charging position ceos office throwing fragrantia holding position cafeteria tossing concussion dart loaded changing mags deploying claymore wall secured concse taking my medication breach charge ready pull room throwing flash bang hostage secured activating drone loading new meg club server room race for breach pilots lounge hostile located cockpit conference room hostage re rerave second floor can kasha out friendly injured throwing concussion reinforce the wall she'll deployed setting off cft in claymore deploying drone hostage secured club office classroom get inne or get out of my way workshop reloading living room basement breaching comes room setting breach charge great room breach ready lounge rich charge ready engine room fourth floor concussions bang out frag grenade out securing door don't move top floor hostage secured detention room classroom stairs dining room dining room on your feet got the hostage drone deployed dark glass throwing flash bag need to pick me up loading glass bolt concussion loading glass dart loaded lying down some taking my meds security room the hostage i'll pat you up back office jim meeting hall armory pool room control room server room balcony classroom b short set machine room laundry room loading glass frog out setting barrio tossing frag loading midt de donating c four both loaded setting device loading dart i'm too old for the sheet take cover bar host i located i'm out presidential bedroom eyes on target let's move storage room loading ma swapping mags retrieving the hostage stairs third floor control room pool room secured the hostage basement club and need to get straight loading new mag throwing stebe gotta get straight reloading taking my medication throwing concussion grenade deploying rice or wire move terrace bared you to stay here flash grenade out detention room server room bathroom swapping kgs workshop first floor presidential bedroom fragrant floor reinforced forty five the floor swapping mags control room throwing frag large server room drone deployed first floor library f g night out map room bedroom i'm dry hostile spotted target spotted what here church drone ready hosted secured nita pick me up maque bolt device set deploying president's office hostile located kitchen stock room gym bathroom wait here throwing flush back great room silver room balcony wait here ready to breach loading deploying reload mdot off the sea four conference room let's go loading magadi locker room bar break room cafeteria secured the hostage north side great room loading med dart sea four deployed nitro set changing max c four set reload reception reach shot set grenade target reloading activating drone consuls office presidential bedroom south side changing magine room consomm combs room security room throwing frag glass loaded i'm too old for this shit i pick me up taking my medication swapping bags loading glass bolt of amoy breach charge lounge workshop break room i'm out of mook room security room charge your position reloading medical dart loaded for set flush out contact setting c four dusting fra grenade concussion set outside hostile spotted i'm a fourth floor throwing frog dark loaded dark contact loading glass garage laundry room lounge delivery area charge deployed conference room dust fragrant smoke grenade out swapping bags reach charging position meeting room i get down president's casino storage room bolt smoke grenade out deploying shield man's delivered need to pick me up library president's office eastside church barbiano conference room pilots lounge surveillance room glass device set concussion grenade out frag doors secure dart loaded look a room cost i located balcony i'm on it drone rey frag out sdn clamor meeting all second floor move large server room comes room mid dark southern barricade smoke grenade flash bang out now regardie room first floor third floor consul's office hunger bay machine room lying down some smoke living room control room throwing smoke grenade ceos office look a room tossing concussion seaford detonated flash wrangling new mag deploying mobile cover reinforcing the floor racer wire deployed target changing smoke out stand by a lobby aiding friendly changing bags reloading dosing concussion grenade detonating c four drone activated richy engine room droid flash map room stay close changing mag target spotted stairs reloaded deploying contact setting c four loading new mag deploying deployed metsotie down some cover rachel wire deployed lobby throwing smoke night smoke night out securing the floor she advert located balcony, garage need to reload meds outshot device loading dart loading dart maintenance area, bathroom clear the way.\n",
      "6421\n",
      "280\n",
      "253\n",
      "247\n",
      "310\n",
      "320\n",
      "281\n",
      "289\n"
     ]
    }
   ],
   "source": [
    "for item in items_:\n",
    "    text = item.split('|')[-1]\n",
    "    if len(text) > 2000:\n",
    "        print(text)\n",
    "    print(len(text))"
   ]
  },
  {
   "cell_type": "code",
   "execution_count": 80,
   "id": "95ea48a7",
   "metadata": {},
   "outputs": [
    {
     "data": {
      "text/plain": [
       "\"you feel cold, saunders, said eustace, when you can't afford to support a great cat skin line coat like this. you do yourself very well, all things considered. look at those gloves, for instance who could possibly feel cold when wearing them? they are far too clumsy, though, for driving. \""
      ]
     },
     "execution_count": 80,
     "metadata": {},
     "output_type": "execute_result"
    }
   ],
   "source": [
    "text"
   ]
  },
  {
   "cell_type": "code",
   "execution_count": 101,
   "id": "a7f5fd9c",
   "metadata": {},
   "outputs": [],
   "source": [
    "import time"
   ]
  },
  {
   "cell_type": "code",
   "execution_count": 102,
   "id": "d46db20f",
   "metadata": {},
   "outputs": [
    {
     "data": {
      "text/plain": [
       "1697114017.6951745"
      ]
     },
     "execution_count": 102,
     "metadata": {},
     "output_type": "execute_result"
    }
   ],
   "source": [
    "time.time()"
   ]
  },
  {
   "cell_type": "code",
   "execution_count": null,
   "id": "97533872",
   "metadata": {},
   "outputs": [],
   "source": []
  }
 ],
 "metadata": {
  "kernelspec": {
   "display_name": "Python 3 (ipykernel)",
   "language": "python",
   "name": "python3"
  },
  "language_info": {
   "codemirror_mode": {
    "name": "ipython",
    "version": 3
   },
   "file_extension": ".py",
   "mimetype": "text/x-python",
   "name": "python",
   "nbconvert_exporter": "python",
   "pygments_lexer": "ipython3",
   "version": "3.8.10"
  }
 },
 "nbformat": 4,
 "nbformat_minor": 5
}
