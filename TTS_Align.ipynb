{
 "cells": [
  {
   "cell_type": "code",
   "execution_count": 6,
   "id": "55397a5c",
   "metadata": {},
   "outputs": [
    {
     "name": "stdout",
     "output_type": "stream",
     "text": [
      "The history saving thread hit an unexpected error (OperationalError('database or disk is full')).History will not be written to the database.\n"
     ]
    },
    {
     "ename": "ModuleNotFoundError",
     "evalue": "No module named 'easyalign'",
     "output_type": "error",
     "traceback": [
      "\u001b[0;31m---------------------------------------------------------------------------\u001b[0m",
      "\u001b[0;31mModuleNotFoundError\u001b[0m                       Traceback (most recent call last)",
      "Cell \u001b[0;32mIn[6], line 1\u001b[0m\n\u001b[0;32m----> 1\u001b[0m \u001b[38;5;28;01mfrom\u001b[39;00m \u001b[38;5;21;01measyalign\u001b[39;00m \u001b[38;5;28;01mimport\u001b[39;00m align\n\u001b[1;32m      3\u001b[0m \u001b[38;5;28;01mdef\u001b[39;00m \u001b[38;5;21malign_text_to_audio\u001b[39m(text_path, audio_path, output_directory):\n\u001b[1;32m      4\u001b[0m     align(\n\u001b[1;32m      5\u001b[0m         corpus\u001b[38;5;241m=\u001b[39mtext_path,\n\u001b[1;32m      6\u001b[0m         dictionary\u001b[38;5;241m=\u001b[39m\u001b[38;5;28;01mNone\u001b[39;00m,\n\u001b[0;32m   (...)\u001b[0m\n\u001b[1;32m     11\u001b[0m         verbose\u001b[38;5;241m=\u001b[39m\u001b[38;5;28;01mTrue\u001b[39;00m,\n\u001b[1;32m     12\u001b[0m     )\n",
      "\u001b[0;31mModuleNotFoundError\u001b[0m: No module named 'easyalign'"
     ]
    }
   ],
   "source": [
    "from easyalign import align\n",
    "\n",
    "def align_text_to_audio(text_path, audio_path, output_directory):\n",
    "    align(\n",
    "        corpus=text_path,\n",
    "        dictionary=None,\n",
    "        output_directory=output_directory,\n",
    "        num_jobs=4,\n",
    "        force=True,\n",
    "        temp_directory=None,\n",
    "        verbose=True,\n",
    "    )\n",
    "\n",
    "if __name__ == \"__main__\":\n",
    "    text_path = \"path/to/your/text/file.txt\"\n",
    "    audio_path = \"path/to/your/audio/file.wav\"\n",
    "    output_directory = \"path/to/output/directory\"\n",
    "\n",
    "    # Generate word-wise timing\n",
    "    align_text_to_audio(text_path, audio_path, output_directory)\n"
   ]
  },
  {
   "cell_type": "code",
   "execution_count": 7,
   "id": "e96e26f2",
   "metadata": {},
   "outputs": [
    {
     "name": "stdout",
     "output_type": "stream",
     "text": [
      "\u001b[31mERROR: Exception:\n",
      "Traceback (most recent call last):\n",
      "  File \"/usr/local/lib/python3.8/dist-packages/pip/_internal/cli/base_command.py\", line 173, in _main\n",
      "    status = self.run(options, args)\n",
      "  File \"/usr/local/lib/python3.8/dist-packages/pip/_internal/cli/req_command.py\", line 203, in wrapper\n",
      "    return func(self, options, args)\n",
      "  File \"/usr/local/lib/python3.8/dist-packages/pip/_internal/commands/install.py\", line 275, in run\n",
      "    wheel_cache = WheelCache(options.cache_dir, options.format_control)\n",
      "  File \"/usr/local/lib/python3.8/dist-packages/pip/_internal/cache.py\", line 238, in __init__\n",
      "    self._ephem_cache = EphemWheelCache(format_control)\n",
      "  File \"/usr/local/lib/python3.8/dist-packages/pip/_internal/cache.py\", line 209, in __init__\n",
      "    self._temp_dir = TempDirectory(\n",
      "  File \"/usr/local/lib/python3.8/dist-packages/pip/_internal/utils/temp_dir.py\", line 130, in __init__\n",
      "    path = self._create(kind)\n",
      "  File \"/usr/local/lib/python3.8/dist-packages/pip/_internal/utils/temp_dir.py\", line 174, in _create\n",
      "    path = os.path.realpath(tempfile.mkdtemp(prefix=f\"pip-{kind}-\"))\n",
      "  File \"/usr/lib/python3.8/tempfile.py\", line 486, in mkdtemp\n",
      "    prefix, suffix, dir, output_type = _sanitize_params(prefix, suffix, dir)\n",
      "  File \"/usr/lib/python3.8/tempfile.py\", line 256, in _sanitize_params\n",
      "    dir = gettempdir()\n",
      "  File \"/usr/lib/python3.8/tempfile.py\", line 425, in gettempdir\n",
      "    tempdir = _get_default_tempdir()\n",
      "  File \"/usr/lib/python3.8/tempfile.py\", line 357, in _get_default_tempdir\n",
      "    raise FileNotFoundError(_errno.ENOENT,\n",
      "FileNotFoundError: [Errno 2] No usable temporary directory found in ['/tmp', '/var/tmp', '/usr/tmp', '/workspace/nemo/vol/FastSpeech2']\u001b[0m\n",
      "\u001b[33mWARNING: You are using pip version 21.2.4; however, version 23.3.2 is available.\n",
      "You should consider upgrading via the '/usr/bin/python -m pip install --upgrade pip' command.\u001b[0m\n"
     ]
    }
   ],
   "source": [
    "!pip install easyalign"
   ]
  },
  {
   "cell_type": "code",
   "execution_count": null,
   "id": "09db4d9e",
   "metadata": {},
   "outputs": [],
   "source": []
  }
 ],
 "metadata": {
  "kernelspec": {
   "display_name": "Python 3 (ipykernel)",
   "language": "python",
   "name": "python3"
  },
  "language_info": {
   "codemirror_mode": {
    "name": "ipython",
    "version": 3
   },
   "file_extension": ".py",
   "mimetype": "text/x-python",
   "name": "python",
   "nbconvert_exporter": "python",
   "pygments_lexer": "ipython3",
   "version": "3.8.10"
  }
 },
 "nbformat": 4,
 "nbformat_minor": 5
}
